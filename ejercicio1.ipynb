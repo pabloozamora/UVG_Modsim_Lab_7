{
 "cells": [
  {
   "cell_type": "markdown",
   "metadata": {},
   "source": [
    "## Inciso b"
   ]
  },
  {
   "cell_type": "code",
   "execution_count": 4,
   "metadata": {},
   "outputs": [
    {
     "data": {
      "text/plain": [
       "3×5 Matrix{Float64}:\n",
       " 138.889   208.333   277.778   194.444    48.6111\n",
       "  69.4444   97.2222   83.3333   90.2778  111.111\n",
       "  55.5556  125.0     138.889   208.333   180.556"
      ]
     },
     "execution_count": 4,
     "metadata": {},
     "output_type": "execute_result"
    }
   ],
   "source": [
    "using JuMP, Clp\n",
    "\n",
    "# Parámetros\n",
    "distancia = [\n",
    "    100 150 200 140 35;\n",
    "    50 70 60 65 80;\n",
    "    40 90 100 150 130\n",
    "]\n",
    "\n",
    "oferta = [400, 200, 150]\n",
    "demanda = [100, 200, 150, 160, 140]\n",
    "\n",
    "# Cálculo de costos\n",
    "costo_por_milla = 25\n",
    "carga_completa = 18\n",
    "costos = costo_por_milla * distancia / carga_completa"
   ]
  },
  {
   "cell_type": "code",
   "execution_count": 5,
   "metadata": {},
   "outputs": [],
   "source": [
    "# Modelo de optimización\n",
    "model = Model(Clp.Optimizer)\n",
    "\n",
    "# Variables de decisión\n",
    "@variable(model, x[1:3, 1:5] >= 0)\n",
    "\n",
    "# Función objetivo\n",
    "@objective(model, Min, sum(costos[i,j] * x[i,j] for i in 1:3, j in 1:5))\n",
    "\n",
    "# Restricciones de oferta\n",
    "for i in 1:3\n",
    "    @constraint(model, sum(x[i,j] for j in 1:5) <= oferta[i])\n",
    "end\n",
    "\n",
    "# Restricciones de demanda\n",
    "for j in 1:5\n",
    "    @constraint(model, sum(x[i,j] for i in 1:3) >= demanda[j])\n",
    "end"
   ]
  },
  {
   "cell_type": "code",
   "execution_count": 6,
   "metadata": {},
   "outputs": [
    {
     "name": "stdout",
     "output_type": "stream",
     "text": [
      "Distribución óptima:\n",
      "x[1,1] = 100.0\n",
      "x[1,2] = 0.0\n",
      "x[1,3] = 0.0\n",
      "x[1,4] = 160.0\n",
      "x[1,5] = 140.0\n",
      "x[2,1] = 0.0\n",
      "x[2,2] = 50.0\n",
      "x[2,3] = 150.0\n",
      "x[2,4] = 0.0\n",
      "x[2,5] = 0.0\n",
      "x[3,1] = 0.0\n",
      "x[3,2] = 150.0\n",
      "x[3,3] = 0.0\n",
      "x[3,4] = 0.0\n",
      "x[3,5] = 0.0\n",
      "Costo total: 87916.66666666667\n",
      "Coin0506I Presolve 8 (0) rows, 15 (0) columns and 30 (0) elements\n",
      "Clp0006I 0  Obj 0 Primal inf 750 (5)\n",
      "Clp0006I 8  Obj 87916.667\n",
      "Clp0000I Optimal - objective value 87916.667\n",
      "Clp0032I Optimal objective 87916.66667 - 8 iterations time 0.002\n"
     ]
    }
   ],
   "source": [
    "# Resolver el modelo\n",
    "optimize!(model)\n",
    "\n",
    "# Resultados\n",
    "println(\"Distribución óptima:\")\n",
    "for i in 1:3, j in 1:5\n",
    "    println(\"x[$i,$j] = \", value(x[i,j]))\n",
    "end\n",
    "\n",
    "println(\"Costo total: \", objective_value(model))"
   ]
  }
 ],
 "metadata": {
  "kernelspec": {
   "display_name": "Julia 1.10.5",
   "language": "julia",
   "name": "julia-1.10"
  },
  "language_info": {
   "file_extension": ".jl",
   "mimetype": "application/julia",
   "name": "julia",
   "version": "1.10.5"
  }
 },
 "nbformat": 4,
 "nbformat_minor": 2
}
