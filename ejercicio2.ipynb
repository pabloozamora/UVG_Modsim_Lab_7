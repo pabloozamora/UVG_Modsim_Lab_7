{
 "cells": [
  {
   "cell_type": "markdown",
   "metadata": {},
   "source": [
    "## Inciso a"
   ]
  },
  {
   "cell_type": "code",
   "execution_count": 66,
   "metadata": {},
   "outputs": [
    {
     "data": {
      "text/plain": [
       "3×5 Matrix{Int64}:\n",
       " 2500  3750  5000  3500   875\n",
       " 1250  1750  1500  1625  2000\n",
       " 1000  2250  2500  3750  3250"
      ]
     },
     "execution_count": 66,
     "metadata": {},
     "output_type": "execute_result"
    }
   ],
   "source": [
    "using JuMP, GLPK\n",
    "\n",
    "# Parámetros\n",
    "distancia = [\n",
    "    100 150 200 140 35;\n",
    "    50 70 60 65 80;\n",
    "    40 90 100 150 130\n",
    "]\n",
    "\n",
    "oferta = [400, 200, 150]\n",
    "oferta = [ceil(value/carga_completa) for value in oferta]\n",
    "\n",
    "demanda = [100, 200, 150, 160, 200]\n",
    "demanda = [ceil(value/carga_completa) for value in demanda]\n",
    "\n",
    "# Cálculo de costos\n",
    "costo_por_milla = 25\n",
    "carga_completa = 18\n",
    "costos = costo_por_milla * distancia"
   ]
  },
  {
   "cell_type": "code",
   "execution_count": 67,
   "metadata": {},
   "outputs": [],
   "source": [
    "# Modelo de optimización\n",
    "model = Model(GLPK.Optimizer)\n",
    "\n",
    "# Variables de decisión\n",
    "@variable(model, x[1:3, 1:5] >= 0)\n",
    "\n",
    "# Función objetivo\n",
    "@objective(model, Min, sum(costos[i,j] * x[i,j] for i in 1:3, j in 1:5))\n",
    "\n",
    "# Restricciones de oferta\n",
    "for i in 1:3\n",
    "    @constraint(model, sum(x[i,j] for j in 1:5) <= oferta[i])\n",
    "end\n",
    "\n",
    "# Restricciones de demanda\n",
    "for j in 1:5\n",
    "    @constraint(model, sum(x[i,j] for i in 1:3) >= demanda[j])\n",
    "end"
   ]
  },
  {
   "cell_type": "code",
   "execution_count": 68,
   "metadata": {},
   "outputs": [
    {
     "name": "stdout",
     "output_type": "stream",
     "text": [
      "Distribución óptima:\n",
      "\n",
      "Viajes a realizar del centro 1 al concesionario 1 = 6.0\n",
      "Viajes a realizar del centro 1 al concesionario 2 = 0.0\n",
      "Viajes a realizar del centro 1 al concesionario 3 = 0.0\n",
      "Viajes a realizar del centro 1 al concesionario 4 = 9.0\n",
      "Viajes a realizar del centro 1 al concesionario 5 = 12.0\n",
      "Viajes a realizar del centro 2 al concesionario 1 = 0.0\n",
      "Viajes a realizar del centro 2 al concesionario 2 = 0.0\n",
      "Viajes a realizar del centro 2 al concesionario 3 = 12.0\n",
      "Viajes a realizar del centro 2 al concesionario 4 = 0.0\n",
      "Viajes a realizar del centro 2 al concesionario 5 = 0.0\n",
      "Viajes a realizar del centro 3 al concesionario 1 = 0.0\n",
      "Viajes a realizar del centro 3 al concesionario 2 = 12.0\n",
      "Viajes a realizar del centro 3 al concesionario 3 = -3.0\n",
      "Viajes a realizar del centro 3 al concesionario 4 = 0.0\n",
      "Viajes a realizar del centro 3 al concesionario 5 = 0.0\n",
      "\n",
      "Costo total: 94500.0\n"
     ]
    }
   ],
   "source": [
    "# Resolver el modelo\n",
    "optimize!(model)\n",
    "\n",
    "# Resultados\n",
    "println(\"Distribución óptima:\\n\")\n",
    "for i in 1:3, j in 1:5\n",
    "    println(\"Viajes a realizar del centro $i al concesionario $j = \", value(x[i,j]))\n",
    "end\n",
    "\n",
    "println(\"\\nCosto total: \", objective_value(model))"
   ]
  },
  {
   "cell_type": "markdown",
   "metadata": {},
   "source": [
    "## Inciso b"
   ]
  },
  {
   "cell_type": "code",
   "execution_count": 69,
   "metadata": {},
   "outputs": [
    {
     "data": {
      "text/plain": [
       "3×5 Matrix{Int64}:\n",
       " 2500  3750  5000  3500   875\n",
       " 1250  1750  1500  1625  2000\n",
       " 1000  2250  2500  3750  3250"
      ]
     },
     "execution_count": 69,
     "metadata": {},
     "output_type": "execute_result"
    }
   ],
   "source": [
    "using JuMP, GLPK\n",
    "\n",
    "# Parámetros\n",
    "distancia = [\n",
    "    100 150 200 140 35;\n",
    "    50 70 60 65 80;\n",
    "    40 90 100 150 130\n",
    "]\n",
    "\n",
    "oferta = [400, 200, 200]\n",
    "oferta = [ceil(value/carga_completa) for value in oferta]\n",
    "\n",
    "demanda = [100, 200, 150, 160, 140]\n",
    "demanda = [ceil(value/carga_completa) for value in demanda]\n",
    "\n",
    "# Cálculo de costos\n",
    "costo_por_milla = 25\n",
    "carga_completa = 18\n",
    "costos = costo_por_milla * distancia"
   ]
  },
  {
   "cell_type": "code",
   "execution_count": 70,
   "metadata": {},
   "outputs": [],
   "source": [
    "# Modelo de optimización\n",
    "model = Model(GLPK.Optimizer)\n",
    "\n",
    "# Variables de decisión\n",
    "@variable(model, x[1:3, 1:5] >= 0)\n",
    "\n",
    "# Función objetivo\n",
    "@objective(model, Min, sum(costos[i,j] * x[i,j] for i in 1:3, j in 1:5))\n",
    "\n",
    "# Restricciones de oferta\n",
    "for i in 1:3\n",
    "    @constraint(model, sum(x[i,j] for j in 1:5) <= oferta[i])\n",
    "end\n",
    "\n",
    "# Restricciones de demanda\n",
    "for j in 1:5\n",
    "    @constraint(model, sum(x[i,j] for i in 1:3) >= demanda[j])\n",
    "end"
   ]
  },
  {
   "cell_type": "code",
   "execution_count": 71,
   "metadata": {},
   "outputs": [
    {
     "name": "stdout",
     "output_type": "stream",
     "text": [
      "Distribución óptima:\n",
      "\n",
      "Viajes a realizar del centro 1 al concesionario 1 = 0.0\n",
      "Viajes a realizar del centro 1 al concesionario 2 = 3.0\n",
      "Viajes a realizar del centro 1 al concesionario 3 = 0.0\n",
      "Viajes a realizar del centro 1 al concesionario 4 = 9.0\n",
      "Viajes a realizar del centro 1 al concesionario 5 = 8.0\n",
      "Viajes a realizar del centro 2 al concesionario 1 = 0.0\n",
      "Viajes a realizar del centro 2 al concesionario 2 = 3.0\n",
      "Viajes a realizar del centro 2 al concesionario 3 = 9.0\n",
      "Viajes a realizar del centro 2 al concesionario 4 = 0.0\n",
      "Viajes a realizar del centro 2 al concesionario 5 = 0.0\n",
      "Viajes a realizar del centro 3 al concesionario 1 = 6.0\n",
      "Viajes a realizar del centro 3 al concesionario 2 = 6.0\n",
      "Viajes a realizar del centro 3 al concesionario 3 = 0.0\n",
      "Viajes a realizar del centro 3 al concesionario 4 = 0.0\n",
      "Viajes a realizar del centro 3 al concesionario 5 = 0.0\n",
      "\n",
      "Costo total: 88000.0\n"
     ]
    }
   ],
   "source": [
    "# Resolver el modelo\n",
    "optimize!(model)\n",
    "\n",
    "# Resultados\n",
    "println(\"Distribución óptima:\\n\")\n",
    "for i in 1:3, j in 1:5\n",
    "    println(\"Viajes a realizar del centro $i al concesionario $j = \", value(x[i,j]))\n",
    "end\n",
    "\n",
    "println(\"\\nCosto total: \", objective_value(model))"
   ]
  }
 ],
 "metadata": {
  "kernelspec": {
   "display_name": "Julia 1.10.5",
   "language": "julia",
   "name": "julia-1.10"
  },
  "language_info": {
   "file_extension": ".jl",
   "mimetype": "application/julia",
   "name": "julia",
   "version": "1.10.5"
  }
 },
 "nbformat": 4,
 "nbformat_minor": 2
}
