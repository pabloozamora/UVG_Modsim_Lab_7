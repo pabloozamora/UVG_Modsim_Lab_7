{
 "cells": [
  {
   "cell_type": "code",
   "execution_count": 1,
   "metadata": {},
   "outputs": [],
   "source": [
    "import numpy as np\n",
    "from algorythms import *\n",
    "from comparision import test_optimization_algorithms"
   ]
  },
  {
   "cell_type": "code",
   "execution_count": 2,
   "metadata": {},
   "outputs": [],
   "source": [
    "functions_to_test = []"
   ]
  },
  {
   "cell_type": "markdown",
   "metadata": {},
   "source": [
    "## Inciso a"
   ]
  },
  {
   "cell_type": "code",
   "execution_count": 3,
   "metadata": {},
   "outputs": [],
   "source": [
    "def fr_r(point):\n",
    "  x, y = point\n",
    "  return x**4 + y**4 - 4*x*y + 0.5*y + 1"
   ]
  },
  {
   "cell_type": "code",
   "execution_count": 4,
   "metadata": {},
   "outputs": [],
   "source": [
    "def grad_f(point):\n",
    "  \"\"\"\n",
    "  Calcula el gradiente de la función f(x, y).\n",
    "  :param point: Punto en el que se evalúa el gradiente\n",
    "  :return: Tuple con las derivadas parciales (df/dx, df/dy)\n",
    "  \"\"\"\n",
    "  x, y = point\n",
    "  df_dx = 4 * x**3 - 4 * y\n",
    "  df_dy = 4 * y**3 - 4 * x + 0.5\n",
    "  return np.array([df_dx, df_dy])"
   ]
  },
  {
   "cell_type": "code",
   "execution_count": 5,
   "metadata": {},
   "outputs": [],
   "source": [
    "def hessian_f(point):\n",
    "    \"\"\"\n",
    "    Calcula el hessiano de la función f(x, y).\n",
    "    :param x: Valor de x\n",
    "    :param y: Valor de y\n",
    "    :return: Matriz 2x2 con las segundas derivadas parciales\n",
    "    \"\"\"\n",
    "    x, y = point\n",
    "    d2f_dx2 = 12 * x**2\n",
    "    d2f_dy2 = 12 * y**2\n",
    "    d2f_dxdy = -4\n",
    "    d2f_dydx = -4\n",
    "    return np.array([[d2f_dx2, d2f_dxdy], [d2f_dydx, d2f_dy2]])"
   ]
  },
  {
   "cell_type": "code",
   "execution_count": 6,
   "metadata": {},
   "outputs": [
    {
     "name": "stdout",
     "output_type": "stream",
     "text": [
      "+------------------------+-----------+-----------------+-------------------+--------------+------------+--------------------+--------------------+---------------+\n",
      "| Algoritmo              | Función   |   No. Iteración | X Final           |   F(X) Final | Converge   |   Error Aproximado |   Gradiente Normal |   Alfa óptimo |\n",
      "+========================+===========+=================+===================+==============+============+====================+====================+===============+\n",
      "| descenso_aleatorio     | fr_r      |               1 | [-3  1]           |    95.5      | True       |        1           |      113.209       |         0.01  |\n",
      "+------------------------+-----------+-----------------+-------------------+--------------+------------+--------------------+--------------------+---------------+\n",
      "| descenso_aleatorio     | fr_r      |               2 | [-2.074   0.6224] |    25.1286   | True       |        1           |       39.4044      |         0.01  |\n",
      "+------------------------+-----------+-----------------+-------------------+--------------+------------+--------------------+--------------------+---------------+\n",
      "| descenso_aleatorio     | fr_r      |               3 | [-1.4921  1.4356] |    19.4916   | True       |        1           |       26.4052      |         0.01  |\n",
      "+------------------------+-----------+-----------------+-------------------+--------------+------------+--------------------+--------------------+---------------+\n",
      "| descenso_aleatorio     | fr_r      |              29 | [-1.0146 -1.0445] |    -1.51132  | True       |        7.62939e-06 |        6.14673e-05 |         0.01  |\n",
      "+------------------------+-----------+-----------------+-------------------+--------------+------------+--------------------+--------------------+---------------+\n",
      "| descenso_aleatorio     | fr_r      |              30 | [-1.0146 -1.0445] |    -1.51132  | True       |        3.8147e-06  |        3.79058e-05 |         0.01  |\n",
      "+------------------------+-----------+-----------------+-------------------+--------------+------------+--------------------+--------------------+---------------+\n",
      "| descenso_aleatorio     | fr_r      |              31 | [-1.0146 -1.0445] |    -1.51132  | True       |        9.53674e-07 |        4.16036e-05 |         0.01  |\n",
      "+------------------------+-----------+-----------------+-------------------+--------------+------------+--------------------+--------------------+---------------+\n",
      "| max_naive              | fr_r      |               1 | [-3  1]           |    95.5      | False      |        3.53778     |      113.209       |         0.001 |\n",
      "+------------------------+-----------+-----------------+-------------------+--------------+------------+--------------------+--------------------+---------------+\n",
      "| max_naive              | fr_r      |               2 | [0.5    0.4844]   |     0.390984 | False      |        0.888724    |        1.77745     |         0.001 |\n",
      "+------------------------+-----------+-----------------+-------------------+--------------+------------+--------------------+--------------------+---------------+\n",
      "| max_naive              | fr_r      |               3 | [1.2188 1.0071]   |    -0.171086 | False      |        0.403218    |        3.22574     |         0.001 |\n",
      "+------------------------+-----------+-----------------+-------------------+--------------+------------+--------------------+--------------------+---------------+\n",
      "| max_naive              | fr_r      |              98 | [0.9831 0.9503]   |    -0.51218  | False      |        1.83428e-05 |        0.000146743 |         0.001 |\n",
      "+------------------------+-----------+-----------------+-------------------+--------------+------------+--------------------+--------------------+---------------+\n",
      "| max_naive              | fr_r      |              99 | [0.9832 0.9503]   |    -0.51218  | False      |        1.65907e-05 |        0.000132725 |         0.001 |\n",
      "+------------------------+-----------+-----------------+-------------------+--------------+------------+--------------------+--------------------+---------------+\n",
      "| max_naive              | fr_r      |             100 | [0.9831 0.9503]   |    -0.51218  | False      |        1.50059e-05 |        0.000120047 |         0.001 |\n",
      "+------------------------+-----------+-----------------+-------------------+--------------+------------+--------------------+--------------------+---------------+\n",
      "| gradiente_newton_aprox | fr_r      |               1 | [-3  1]           |    95.5      | True       |        1.13209     |      113.209       |         0.01  |\n",
      "+------------------------+-----------+-----------------+-------------------+--------------+------------+--------------------+--------------------+---------------+\n",
      "| gradiente_newton_aprox | fr_r      |               2 | [-1.88   0.835]   |    20.6748   | True       |        1.12593     |       31.6579      |         0.01  |\n",
      "+------------------------+-----------+-----------------+-------------------+--------------+------------+--------------------+--------------------+---------------+\n",
      "| gradiente_newton_aprox | fr_r      |               3 | [-1.2634 -0.1071] |     2.95331  | True       |        0           |        9.44128     |         0.01  |\n",
      "+------------------------+-----------+-----------------+-------------------+--------------+------------+--------------------+--------------------+---------------+\n",
      "| gradiente_newton_aprox | fr_r      |               1 | [-3  1]           |    95.5      | True       |        1.13209     |      113.209       |         0.01  |\n",
      "+------------------------+-----------+-----------------+-------------------+--------------+------------+--------------------+--------------------+---------------+\n",
      "| gradiente_newton_aprox | fr_r      |               2 | [-1.88   0.835]   |    20.6748   | True       |        1.12593     |       31.6579      |         0.01  |\n",
      "+------------------------+-----------+-----------------+-------------------+--------------+------------+--------------------+--------------------+---------------+\n",
      "| gradiente_newton_aprox | fr_r      |               3 | [-1.2634 -0.1071] |     2.95331  | True       |        0           |        9.44128     |         0.01  |\n",
      "+------------------------+-----------+-----------------+-------------------+--------------+------------+--------------------+--------------------+---------------+\n",
      "| gradiente_newton_exact | fr_r      |               1 | [-3  1]           |    95.5      | True       |        0.0144327   |      113.209       |         0.01  |\n",
      "+------------------------+-----------+-----------------+-------------------+--------------+------------+--------------------+--------------------+---------------+\n",
      "| gradiente_newton_exact | fr_r      |               2 | [-2.99    0.9896] |    94.2162   | True       |        1.44736     |      112.081       |         0.01  |\n",
      "+------------------------+-----------+-----------------+-------------------+--------------+------------+--------------------+--------------------+---------------+\n",
      "| gradiente_newton_exact | fr_r      |               3 | [-1.9957 -0.0621] |    16.3345   | True       |        3.46945e-17 |       32.664       |         0.01  |\n",
      "+------------------------+-----------+-----------------+-------------------+--------------+------------+--------------------+--------------------+---------------+\n",
      "| gradiente_newton_exact | fr_r      |               1 | [-3  1]           |    95.5      | True       |        0.0144327   |      113.209       |         0.01  |\n",
      "+------------------------+-----------+-----------------+-------------------+--------------+------------+--------------------+--------------------+---------------+\n",
      "| gradiente_newton_exact | fr_r      |               2 | [-2.99    0.9896] |    94.2162   | True       |        1.44736     |      112.081       |         0.01  |\n",
      "+------------------------+-----------+-----------------+-------------------+--------------+------------+--------------------+--------------------+---------------+\n",
      "| gradiente_newton_exact | fr_r      |               3 | [-1.9957 -0.0621] |    16.3345   | True       |        3.46945e-17 |       32.664       |         0.01  |\n",
      "+------------------------+-----------+-----------------+-------------------+--------------+------------+--------------------+--------------------+---------------+\n"
     ]
    }
   ],
   "source": [
    "x0 = np.array([-3,1])\n",
    "functions_to_test.append([fr_r,grad_f,hessian_f,x0])\n",
    "test_optimization_algorithms(functions_to_test)"
   ]
  },
  {
   "cell_type": "markdown",
   "metadata": {},
   "source": [
    "## Inciso b: Rosembrock 2-dimensional"
   ]
  },
  {
   "cell_type": "code",
   "execution_count": 7,
   "metadata": {},
   "outputs": [],
   "source": [
    "def Rosembrock_2(point):\n",
    "  x1, x2 = point\n",
    "  return 100 * (x2 - x1**2)**2 + (1 - x1)**2"
   ]
  },
  {
   "cell_type": "code",
   "execution_count": 8,
   "metadata": {},
   "outputs": [],
   "source": [
    "def grad_f(point):\n",
    "    \"\"\"\n",
    "    Calcula el gradiente de la función de Rosenbrock en 2D.\n",
    "    :param x1: Valor de x1\n",
    "    :param x2: Valor de x2\n",
    "    :return: Tuple con las derivadas parciales (df/dx1, df/dx2)\n",
    "    \"\"\"\n",
    "    x1, x2 = point\n",
    "    df_dx1 = -400 * x1 * (x2 - x1**2) - 2 * (1 - x1)\n",
    "    df_dx2 = 200 * (x2 - x1**2)\n",
    "    return (df_dx1, df_dx2)"
   ]
  },
  {
   "cell_type": "code",
   "execution_count": 9,
   "metadata": {},
   "outputs": [],
   "source": [
    "def hessian_f(point):\n",
    "    \"\"\"\n",
    "    Calcula el hessiano de la función de Rosenbrock en 2D.\n",
    "    :param x1: Valor de x1\n",
    "    :param x2: Valor de x2\n",
    "    :return: Matriz 2x2 con las segundas derivadas parciales\n",
    "    \"\"\"\n",
    "    x1, x2 = point\n",
    "    d2f_dx1x1 = 1200 * x1**2 - 400 * x2 + 2\n",
    "    d2f_dx2x2 = 200\n",
    "    d2f_dx1x2 = -400 * x1\n",
    "    d2f_dx2x1 = -400 * x1\n",
    "    return [[d2f_dx1x1, d2f_dx1x2], [d2f_dx2x1, d2f_dx2x2]]"
   ]
  },
  {
   "cell_type": "code",
   "execution_count": 10,
   "metadata": {},
   "outputs": [],
   "source": [
    "# x0 = np.array([-1.2,1])\n",
    "# functions_to_test.append([Rosembrock_2,grad_f,hessian_f,x0])"
   ]
  },
  {
   "cell_type": "markdown",
   "metadata": {},
   "source": [
    "## Inciso c: Rosembrock 10-dimensional"
   ]
  },
  {
   "cell_type": "code",
   "execution_count": 11,
   "metadata": {},
   "outputs": [],
   "source": [
    "def Rosembrock_10(point):\n",
    "  x = point\n",
    "  assert len(x) == 10, \"La entrada debe ser un vector de longitud 10.\"\n",
    "  return sum(100 * (x[i+1] - x[i]**2)**2 + (1 - x[i])**2 for i in range(9))\n"
   ]
  },
  {
   "cell_type": "code",
   "execution_count": 12,
   "metadata": {},
   "outputs": [],
   "source": [
    "def grad_f(point):\n",
    "    \"\"\"\n",
    "    Calcula el gradiente de la función de Rosenbrock en 10 dimensiones.\n",
    "    :param x: Vector de 10 elementos\n",
    "    :return: Vector de 10 componentes con las derivadas parciales\n",
    "    \"\"\"\n",
    "    x = point\n",
    "    assert len(x) == 10, \"La entrada debe ser un vector de longitud 10.\"\n",
    "    grad = np.zeros(10)\n",
    "    \n",
    "    # Gradiente para i = 0,...,8\n",
    "    for i in range(9):\n",
    "        grad[i] += -400 * x[i] * (x[i+1] - x[i]**2) - 2 * (1 - x[i])\n",
    "        grad[i+1] += 200 * (x[i+1] - x[i]**2)\n",
    "    \n",
    "    return grad"
   ]
  },
  {
   "cell_type": "code",
   "execution_count": 13,
   "metadata": {},
   "outputs": [],
   "source": [
    "def hessian_f(point):\n",
    "    \"\"\"\n",
    "    Calcula el hessiano de la función de Rosenbrock en 10 dimensiones.\n",
    "    :param x: Vector de 10 elementos\n",
    "    :return: Matriz 10x10 con las segundas derivadas parciales\n",
    "    \"\"\"\n",
    "    x = point\n",
    "    assert len(x) == 10, \"La entrada debe ser un vector de longitud 10.\"\n",
    "    hessian = np.zeros((10, 10))\n",
    "    \n",
    "    # Hessiano para términos diagonales y no diagonales\n",
    "    for i in range(9):\n",
    "        hessian[i, i] = 1200 * x[i]**2 - 400 * x[i+1] + 2\n",
    "        hessian[i+1, i+1] = 200\n",
    "        hessian[i, i+1] = -400 * x[i]\n",
    "        hessian[i+1, i] = -400 * x[i]\n",
    "    \n",
    "    # Último término diagonal\n",
    "    hessian[9, 9] = 200\n",
    "    \n",
    "    return hessian"
   ]
  },
  {
   "cell_type": "code",
   "execution_count": 14,
   "metadata": {},
   "outputs": [],
   "source": [
    "# x0 = np.array([-1.2,1,1,1,1,1,1,1,-1.2,1])\n",
    "# functions_to_test.append([Rosembrock_10,grad_f,hessian_f,x0])"
   ]
  },
  {
   "cell_type": "code",
   "execution_count": null,
   "metadata": {},
   "outputs": [],
   "source": []
  }
 ],
 "metadata": {
  "kernelspec": {
   "display_name": "Python 3",
   "language": "python",
   "name": "python3"
  },
  "language_info": {
   "codemirror_mode": {
    "name": "ipython",
    "version": 3
   },
   "file_extension": ".py",
   "mimetype": "text/x-python",
   "name": "python",
   "nbconvert_exporter": "python",
   "pygments_lexer": "ipython3",
   "version": "3.12.5"
  }
 },
 "nbformat": 4,
 "nbformat_minor": 2
}
