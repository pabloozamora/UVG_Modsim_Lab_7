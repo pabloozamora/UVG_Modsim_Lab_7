{
 "cells": [
  {
   "cell_type": "code",
   "execution_count": 1,
   "metadata": {},
   "outputs": [],
   "source": [
    "import numpy as np"
   ]
  },
  {
   "cell_type": "markdown",
   "metadata": {},
   "source": [
    "## Inciso a"
   ]
  },
  {
   "cell_type": "code",
   "execution_count": 2,
   "metadata": {},
   "outputs": [],
   "source": [
    "def f(x, y):\n",
    "    return x**4 + y**4 - 4*x*y + 0.5*y + 1"
   ]
  },
  {
   "cell_type": "code",
   "execution_count": 3,
   "metadata": {},
   "outputs": [],
   "source": [
    "def grad_f(x, y):\n",
    "    \"\"\"\n",
    "    Calcula el gradiente de la función f(x, y).\n",
    "    :param x: Valor de x\n",
    "    :param y: Valor de y\n",
    "    :return: Tuple con las derivadas parciales (df/dx, df/dy)\n",
    "    \"\"\"\n",
    "    df_dx = 4 * x**3 - 4 * y\n",
    "    df_dy = 4 * y**3 - 4 * x + 0.5\n",
    "    return (df_dx, df_dy)"
   ]
  },
  {
   "cell_type": "code",
   "execution_count": 4,
   "metadata": {},
   "outputs": [],
   "source": [
    "def hessian_f(x, y):\n",
    "    \"\"\"\n",
    "    Calcula el hessiano de la función f(x, y).\n",
    "    :param x: Valor de x\n",
    "    :param y: Valor de y\n",
    "    :return: Matriz 2x2 con las segundas derivadas parciales\n",
    "    \"\"\"\n",
    "    d2f_dx2 = 12 * x**2\n",
    "    d2f_dy2 = 12 * y**2\n",
    "    d2f_dxdy = -4\n",
    "    d2f_dydx = -4\n",
    "    return [[d2f_dx2, d2f_dxdy], [d2f_dydx, d2f_dy2]]"
   ]
  },
  {
   "cell_type": "markdown",
   "metadata": {},
   "source": [
    "## Inciso b: Rosembrock 2-dimensional"
   ]
  },
  {
   "cell_type": "code",
   "execution_count": 5,
   "metadata": {},
   "outputs": [],
   "source": [
    "def f(x1, x2):\n",
    "    return 100 * (x2 - x1**2)**2 + (1 - x1)**2"
   ]
  },
  {
   "cell_type": "code",
   "execution_count": 6,
   "metadata": {},
   "outputs": [],
   "source": [
    "def grad_f(x1, x2):\n",
    "    \"\"\"\n",
    "    Calcula el gradiente de la función de Rosenbrock en 2D.\n",
    "    :param x1: Valor de x1\n",
    "    :param x2: Valor de x2\n",
    "    :return: Tuple con las derivadas parciales (df/dx1, df/dx2)\n",
    "    \"\"\"\n",
    "    df_dx1 = -400 * x1 * (x2 - x1**2) - 2 * (1 - x1)\n",
    "    df_dx2 = 200 * (x2 - x1**2)\n",
    "    return (df_dx1, df_dx2)"
   ]
  },
  {
   "cell_type": "code",
   "execution_count": 7,
   "metadata": {},
   "outputs": [],
   "source": [
    "def hessian_f(x1, x2):\n",
    "    \"\"\"\n",
    "    Calcula el hessiano de la función de Rosenbrock en 2D.\n",
    "    :param x1: Valor de x1\n",
    "    :param x2: Valor de x2\n",
    "    :return: Matriz 2x2 con las segundas derivadas parciales\n",
    "    \"\"\"\n",
    "    d2f_dx1x1 = 1200 * x1**2 - 400 * x2 + 2\n",
    "    d2f_dx2x2 = 200\n",
    "    d2f_dx1x2 = -400 * x1\n",
    "    d2f_dx2x1 = -400 * x1\n",
    "    return [[d2f_dx1x1, d2f_dx1x2], [d2f_dx2x1, d2f_dx2x2]]"
   ]
  },
  {
   "cell_type": "markdown",
   "metadata": {},
   "source": [
    "## Inciso c: Rosembrock 10-dimensional"
   ]
  },
  {
   "cell_type": "code",
   "execution_count": 8,
   "metadata": {},
   "outputs": [],
   "source": [
    "def f(x):\n",
    "    assert len(x) == 10, \"La entrada debe ser un vector de longitud 10.\"\n",
    "    return sum(100 * (x[i+1] - x[i]**2)**2 + (1 - x[i])**2 for i in range(9))\n"
   ]
  },
  {
   "cell_type": "code",
   "execution_count": 9,
   "metadata": {},
   "outputs": [],
   "source": [
    "def grad_f(x):\n",
    "    \"\"\"\n",
    "    Calcula el gradiente de la función de Rosenbrock en 10 dimensiones.\n",
    "    :param x: Vector de 10 elementos\n",
    "    :return: Vector de 10 componentes con las derivadas parciales\n",
    "    \"\"\"\n",
    "    assert len(x) == 10, \"La entrada debe ser un vector de longitud 10.\"\n",
    "    grad = np.zeros(10)\n",
    "    \n",
    "    # Gradiente para i = 0,...,8\n",
    "    for i in range(9):\n",
    "        grad[i] += -400 * x[i] * (x[i+1] - x[i]**2) - 2 * (1 - x[i])\n",
    "        grad[i+1] += 200 * (x[i+1] - x[i]**2)\n",
    "    \n",
    "    return grad"
   ]
  },
  {
   "cell_type": "code",
   "execution_count": 10,
   "metadata": {},
   "outputs": [],
   "source": [
    "def hessian_f(x):\n",
    "    \"\"\"\n",
    "    Calcula el hessiano de la función de Rosenbrock en 10 dimensiones.\n",
    "    :param x: Vector de 10 elementos\n",
    "    :return: Matriz 10x10 con las segundas derivadas parciales\n",
    "    \"\"\"\n",
    "    assert len(x) == 10, \"La entrada debe ser un vector de longitud 10.\"\n",
    "    hessian = np.zeros((10, 10))\n",
    "    \n",
    "    # Hessiano para términos diagonales y no diagonales\n",
    "    for i in range(9):\n",
    "        hessian[i, i] = 1200 * x[i]**2 - 400 * x[i+1] + 2\n",
    "        hessian[i+1, i+1] = 200\n",
    "        hessian[i, i+1] = -400 * x[i]\n",
    "        hessian[i+1, i] = -400 * x[i]\n",
    "    \n",
    "    # Último término diagonal\n",
    "    hessian[9, 9] = 200\n",
    "    \n",
    "    return hessian"
   ]
  }
 ],
 "metadata": {
  "kernelspec": {
   "display_name": "Python 3",
   "language": "python",
   "name": "python3"
  },
  "language_info": {
   "codemirror_mode": {
    "name": "ipython",
    "version": 3
   },
   "file_extension": ".py",
   "mimetype": "text/x-python",
   "name": "python",
   "nbconvert_exporter": "python",
   "pygments_lexer": "ipython3",
   "version": "3.11.7"
  }
 },
 "nbformat": 4,
 "nbformat_minor": 2
}
