{
 "cells": [
  {
   "cell_type": "code",
   "execution_count": 41,
   "metadata": {},
   "outputs": [],
   "source": [
    "import numpy as np\n",
    "from algorythms import *\n",
    "from comparision import test_optimization_algorithms"
   ]
  },
  {
   "cell_type": "code",
   "execution_count": 42,
   "metadata": {},
   "outputs": [],
   "source": [
    "functions_to_test = []"
   ]
  },
  {
   "cell_type": "markdown",
   "metadata": {},
   "source": [
    "## Inciso a"
   ]
  },
  {
   "cell_type": "code",
   "execution_count": 43,
   "metadata": {},
   "outputs": [],
   "source": [
    "def f(point):\n",
    "  x, y = point\n",
    "  return x**4 + y**4 - 4*x*y + 0.5*y + 1"
   ]
  },
  {
   "cell_type": "code",
   "execution_count": 44,
   "metadata": {},
   "outputs": [],
   "source": [
    "def grad_f(point):\n",
    "  \"\"\"\n",
    "  Calcula el gradiente de la función f(x, y).\n",
    "  :param point: Punto en el que se evalúa el gradiente\n",
    "  :return: Tuple con las derivadas parciales (df/dx, df/dy)\n",
    "  \"\"\"\n",
    "  x, y = point\n",
    "  df_dx = 4 * x**3 - 4 * y\n",
    "  df_dy = 4 * y**3 - 4 * x + 0.5\n",
    "  return np.array([df_dx, df_dy])"
   ]
  },
  {
   "cell_type": "code",
   "execution_count": 45,
   "metadata": {},
   "outputs": [],
   "source": [
    "def hessian_f(point):\n",
    "    \"\"\"\n",
    "    Calcula el hessiano de la función f(x, y).\n",
    "    :param x: Valor de x\n",
    "    :param y: Valor de y\n",
    "    :return: Matriz 2x2 con las segundas derivadas parciales\n",
    "    \"\"\"\n",
    "    x, y = point\n",
    "    d2f_dx2 = 12 * x**2\n",
    "    d2f_dy2 = 12 * y**2\n",
    "    d2f_dxdy = -4\n",
    "    d2f_dydx = -4\n",
    "    return np.array([[d2f_dx2, d2f_dxdy], [d2f_dydx, d2f_dy2]])"
   ]
  },
  {
   "cell_type": "code",
   "execution_count": 46,
   "metadata": {},
   "outputs": [],
   "source": [
    "x0 = np.array([-3,1])\n",
    "functions_to_test.append([f,grad_f,hessian_f,x0])"
   ]
  },
  {
   "cell_type": "markdown",
   "metadata": {},
   "source": [
    "## Inciso b: Rosembrock 2-dimensional"
   ]
  },
  {
   "cell_type": "code",
   "execution_count": 47,
   "metadata": {},
   "outputs": [],
   "source": [
    "def f(point):\n",
    "  x1, x2 = point\n",
    "  return 100 * (x2 - x1**2)**2 + (1 - x1)**2"
   ]
  },
  {
   "cell_type": "code",
   "execution_count": 48,
   "metadata": {},
   "outputs": [],
   "source": [
    "def grad_f(point):\n",
    "    \"\"\"\n",
    "    Calcula el gradiente de la función de Rosenbrock en 2D.\n",
    "    :param x1: Valor de x1\n",
    "    :param x2: Valor de x2\n",
    "    :return: Tuple con las derivadas parciales (df/dx1, df/dx2)\n",
    "    \"\"\"\n",
    "    x1, x2 = point\n",
    "    df_dx1 = -400 * x1 * (x2 - x1**2) - 2 * (1 - x1)\n",
    "    df_dx2 = 200 * (x2 - x1**2)\n",
    "    return (df_dx1, df_dx2)"
   ]
  },
  {
   "cell_type": "code",
   "execution_count": 49,
   "metadata": {},
   "outputs": [],
   "source": [
    "def hessian_f(point):\n",
    "    \"\"\"\n",
    "    Calcula el hessiano de la función de Rosenbrock en 2D.\n",
    "    :param x1: Valor de x1\n",
    "    :param x2: Valor de x2\n",
    "    :return: Matriz 2x2 con las segundas derivadas parciales\n",
    "    \"\"\"\n",
    "    x1, x2 = point\n",
    "    d2f_dx1x1 = 1200 * x1**2 - 400 * x2 + 2\n",
    "    d2f_dx2x2 = 200\n",
    "    d2f_dx1x2 = -400 * x1\n",
    "    d2f_dx2x1 = -400 * x1\n",
    "    return [[d2f_dx1x1, d2f_dx1x2], [d2f_dx2x1, d2f_dx2x2]]"
   ]
  },
  {
   "cell_type": "code",
   "execution_count": 50,
   "metadata": {},
   "outputs": [],
   "source": [
    "# x0 = np.array([-1.2,1])\n",
    "# functions_to_test.append([f,grad_f,hessian_f,x0])"
   ]
  },
  {
   "cell_type": "markdown",
   "metadata": {},
   "source": [
    "## Inciso c: Rosembrock 10-dimensional"
   ]
  },
  {
   "cell_type": "code",
   "execution_count": 51,
   "metadata": {},
   "outputs": [],
   "source": [
    "def f(point):\n",
    "  x = point\n",
    "  assert len(x) == 10, \"La entrada debe ser un vector de longitud 10.\"\n",
    "  return sum(100 * (x[i+1] - x[i]**2)**2 + (1 - x[i])**2 for i in range(9))\n"
   ]
  },
  {
   "cell_type": "code",
   "execution_count": 52,
   "metadata": {},
   "outputs": [],
   "source": [
    "def grad_f(point):\n",
    "    \"\"\"\n",
    "    Calcula el gradiente de la función de Rosenbrock en 10 dimensiones.\n",
    "    :param x: Vector de 10 elementos\n",
    "    :return: Vector de 10 componentes con las derivadas parciales\n",
    "    \"\"\"\n",
    "    x = point\n",
    "    assert len(x) == 10, \"La entrada debe ser un vector de longitud 10.\"\n",
    "    grad = np.zeros(10)\n",
    "    \n",
    "    # Gradiente para i = 0,...,8\n",
    "    for i in range(9):\n",
    "        grad[i] += -400 * x[i] * (x[i+1] - x[i]**2) - 2 * (1 - x[i])\n",
    "        grad[i+1] += 200 * (x[i+1] - x[i]**2)\n",
    "    \n",
    "    return grad"
   ]
  },
  {
   "cell_type": "code",
   "execution_count": 53,
   "metadata": {},
   "outputs": [],
   "source": [
    "def hessian_f(point):\n",
    "    \"\"\"\n",
    "    Calcula el hessiano de la función de Rosenbrock en 10 dimensiones.\n",
    "    :param x: Vector de 10 elementos\n",
    "    :return: Matriz 10x10 con las segundas derivadas parciales\n",
    "    \"\"\"\n",
    "    x = point\n",
    "    assert len(x) == 10, \"La entrada debe ser un vector de longitud 10.\"\n",
    "    hessian = np.zeros((10, 10))\n",
    "    \n",
    "    # Hessiano para términos diagonales y no diagonales\n",
    "    for i in range(9):\n",
    "        hessian[i, i] = 1200 * x[i]**2 - 400 * x[i+1] + 2\n",
    "        hessian[i+1, i+1] = 200\n",
    "        hessian[i, i+1] = -400 * x[i]\n",
    "        hessian[i+1, i] = -400 * x[i]\n",
    "    \n",
    "    # Último término diagonal\n",
    "    hessian[9, 9] = 200\n",
    "    \n",
    "    return hessian"
   ]
  },
  {
   "cell_type": "code",
   "execution_count": 54,
   "metadata": {},
   "outputs": [],
   "source": [
    "# x0 = np.array([-1.2,1,1,1,1,1,1,1,-1.2,1])\n",
    "# functions_to_test.append([f,grad_f,hessian_f,x0])"
   ]
  },
  {
   "cell_type": "code",
   "execution_count": 55,
   "metadata": {},
   "outputs": [
    {
     "name": "stdout",
     "output_type": "stream",
     "text": [
      "+------------------------+-----------+-----------------+-------------------+--------------------+--------------------+\n",
      "| Algoritmo              | Función   |   No. Iteración | X Final           |   Error Aproximado |   Gradiente Normal |\n",
      "+========================+===========+=================+===================+====================+====================+\n",
      "| descenso_aleatorio     | f         |               1 | [-3  1]           |        1           |      113.209       |\n",
      "+------------------------+-----------+-----------------+-------------------+--------------------+--------------------+\n",
      "| descenso_aleatorio     | f         |               2 | [-2.0473  0.6962] |        1           |       38.4414      |\n",
      "+------------------------+-----------+-----------------+-------------------+--------------------+--------------------+\n",
      "| descenso_aleatorio     | f         |               3 | [-1.2201  1.2581] |        1           |       18.1469      |\n",
      "+------------------------+-----------+-----------------+-------------------+--------------------+--------------------+\n",
      "| descenso_aleatorio     | f         |              30 | [0.9832 0.9503]   |        3.05176e-05 |        0.000217291 |\n",
      "+------------------------+-----------+-----------------+-------------------+--------------------+--------------------+\n",
      "| descenso_aleatorio     | f         |              31 | [0.9831 0.9503]   |        1.52588e-05 |        0.000168617 |\n",
      "+------------------------+-----------+-----------------+-------------------+--------------------+--------------------+\n",
      "| descenso_aleatorio     | f         |              32 | [0.9831 0.9503]   |        9.53674e-07 |        2.78365e-05 |\n",
      "+------------------------+-----------+-----------------+-------------------+--------------------+--------------------+\n",
      "| max_naive              | f         |               1 | [-3  1]           |        3.53778     |      113.209       |\n",
      "+------------------------+-----------+-----------------+-------------------+--------------------+--------------------+\n",
      "| max_naive              | f         |               2 | [0.5    0.4844]   |        0.888724    |        1.77745     |\n",
      "+------------------------+-----------+-----------------+-------------------+--------------------+--------------------+\n",
      "| max_naive              | f         |               3 | [1.2188 1.0071]   |        0.403218    |        3.22574     |\n",
      "+------------------------+-----------+-----------------+-------------------+--------------------+--------------------+\n",
      "| max_naive              | f         |             125 | [0.9831 0.9503]   |        1.21958e-06 |        9.75661e-06 |\n",
      "+------------------------+-----------+-----------------+-------------------+--------------------+--------------------+\n",
      "| max_naive              | f         |             126 | [0.9831 0.9503]   |        1.10308e-06 |        8.82463e-06 |\n",
      "+------------------------+-----------+-----------------+-------------------+--------------------+--------------------+\n",
      "| max_naive              | f         |             127 | [0.9831 0.9503]   |        9.97711e-07 |        7.98169e-06 |\n",
      "+------------------------+-----------+-----------------+-------------------+--------------------+--------------------+\n",
      "| gradiente_newton_aprox | f         |               1 | [-3  1]           |        2.22045e-16 |      113.209       |\n",
      "+------------------------+-----------+-----------------+-------------------+--------------------+--------------------+\n",
      "| gradiente_newton_aprox | f         |               1 | [-3  1]           |        2.22045e-16 |      113.209       |\n",
      "+------------------------+-----------+-----------------+-------------------+--------------------+--------------------+\n",
      "| gradiente_newton_exact | f         |               1 | [-3  1]           |        2.22045e-16 |      113.209       |\n",
      "+------------------------+-----------+-----------------+-------------------+--------------------+--------------------+\n",
      "| gradiente_newton_exact | f         |               1 | [-3  1]           |        2.22045e-16 |      113.209       |\n",
      "+------------------------+-----------+-----------------+-------------------+--------------------+--------------------+\n"
     ]
    }
   ],
   "source": [
    "test_optimization_algorithms(functions_to_test)"
   ]
  }
 ],
 "metadata": {
  "kernelspec": {
   "display_name": "Python 3",
   "language": "python",
   "name": "python3"
  },
  "language_info": {
   "codemirror_mode": {
    "name": "ipython",
    "version": 3
   },
   "file_extension": ".py",
   "mimetype": "text/x-python",
   "name": "python",
   "nbconvert_exporter": "python",
   "pygments_lexer": "ipython3",
   "version": "3.12.5"
  }
 },
 "nbformat": 4,
 "nbformat_minor": 2
}
