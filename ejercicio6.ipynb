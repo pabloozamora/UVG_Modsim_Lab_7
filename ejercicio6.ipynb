{
 "cells": [
  {
   "cell_type": "code",
   "execution_count": 2,
   "metadata": {},
   "outputs": [
    {
     "name": "stdout",
     "output_type": "stream",
     "text": [
      "Resultado: -0.3163372535406218\n",
      "Centros: [[2.99632095 7.60571445]\n",
      " [5.85595153 4.78926787]\n",
      " [1.24814912 1.24795616]\n",
      " [0.4646689  6.92940917]\n",
      " [4.80892009 5.66458062]\n",
      " [0.16467595 7.75927882]\n",
      " [6.65954113 1.69871289]\n",
      " [1.45459974 1.46723608]]\n"
     ]
    }
   ],
   "source": [
    "import numpy as np\n",
    "\n",
    "# Generar puntos aleatorios en el rectángulo [0, 8] × [0, 8]\n",
    "k = 8\n",
    "np.random.seed(42)  # Fijar la semilla para reproducibilidad\n",
    "centers = np.random.uniform(0, 8, (k, 2))\n",
    "\n",
    "def f(x, sigma):\n",
    "    \"\"\"\n",
    "    Calcula la suma de gaussianas en 2 dimensiones con centros generados aleatoriamente.\n",
    "    \n",
    "    :param x: Vector 2D donde se evaluará la función, por ejemplo, [x1, x2]\n",
    "    :param sigma: Valor del parámetro σ (sigma)\n",
    "    :return: Valor de la función en el punto `x`\n",
    "    \"\"\"\n",
    "    return -sum(np.exp(-0.5 * np.linalg.norm(np.array(x) - center)**2 / sigma) for center in centers)\n",
    "\n",
    "# Ejemplo de uso\n",
    "sigma = 1.0\n",
    "x = [4.0, 4.0]\n",
    "result = f(x, sigma)\n",
    "print(\"Resultado:\", result)\n",
    "print(\"Centros:\", centers)"
   ]
  },
  {
   "cell_type": "code",
   "execution_count": 3,
   "metadata": {},
   "outputs": [],
   "source": [
    "def grad_f(x, sigma):\n",
    "    \"\"\"\n",
    "    Calcula el gradiente de la suma de gaussianas en 2D.\n",
    "    :param x: Vector 2D donde se evaluará la función, por ejemplo, [x1, x2]\n",
    "    :param sigma: Valor del parámetro σ (sigma)\n",
    "    :return: Gradiente como un vector [df/dx1, df/dx2]\n",
    "    \"\"\"\n",
    "    grad = np.zeros(2)\n",
    "    for center in centers:\n",
    "        diff = np.array(x) - center\n",
    "        exp_val = np.exp(-0.5 * np.linalg.norm(diff)**2 / sigma)\n",
    "        grad += exp_val * diff / sigma\n",
    "    return -grad"
   ]
  },
  {
   "cell_type": "code",
   "execution_count": 4,
   "metadata": {},
   "outputs": [],
   "source": [
    "def hessian_f(x, sigma):\n",
    "    \"\"\"\n",
    "    Calcula el hessiano de la suma de gaussianas en 2D.\n",
    "    :param x: Vector 2D donde se evaluará la función, por ejemplo, [x1, x2]\n",
    "    :param sigma: Valor del parámetro σ (sigma)\n",
    "    :return: Hessiano como una matriz 2x2\n",
    "    \"\"\"\n",
    "    hessian = np.zeros((2, 2))\n",
    "    for center in centers:\n",
    "        diff = np.array(x) - center\n",
    "        exp_val = np.exp(-0.5 * np.linalg.norm(diff)**2 / sigma)\n",
    "        hessian[0, 0] += exp_val * ((diff[0]**2 / sigma**2) - (1 / sigma))\n",
    "        hessian[1, 1] += exp_val * ((diff[1]**2 / sigma**2) - (1 / sigma))\n",
    "        hessian[0, 1] += exp_val * (diff[0] * diff[1] / sigma**2)\n",
    "        hessian[1, 0] = hessian[0, 1]\n",
    "    return -hessian"
   ]
  }
 ],
 "metadata": {
  "kernelspec": {
   "display_name": "Python 3",
   "language": "python",
   "name": "python3"
  },
  "language_info": {
   "codemirror_mode": {
    "name": "ipython",
    "version": 3
   },
   "file_extension": ".py",
   "mimetype": "text/x-python",
   "name": "python",
   "nbconvert_exporter": "python",
   "pygments_lexer": "ipython3",
   "version": "3.11.7"
  }
 },
 "nbformat": 4,
 "nbformat_minor": 2
}
