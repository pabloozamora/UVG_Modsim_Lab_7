{
 "cells": [
  {
   "cell_type": "markdown",
   "metadata": {},
   "source": [
    "## Inciso i"
   ]
  },
  {
   "cell_type": "code",
   "execution_count": 1,
   "metadata": {},
   "outputs": [
    {
     "data": {
      "text/plain": [
       "5"
      ]
     },
     "execution_count": 1,
     "metadata": {},
     "output_type": "execute_result"
    }
   ],
   "source": [
    "using JuMP, GLPK\n",
    "\n",
    "# Parámetros\n",
    "tareas = [\n",
    "    3 8 2 10 3;\n",
    "    6 5 2 7 5;\n",
    "    6 4 2 7 5;\n",
    "    8 4 2 3 5;\n",
    "    7 8 6 7 7\n",
    "]\n",
    "\n",
    "# Dimensiones de la matriz\n",
    "n = size(tareas, 1)"
   ]
  },
  {
   "cell_type": "code",
   "execution_count": 2,
   "metadata": {},
   "outputs": [],
   "source": [
    "# Modelo de optimización\n",
    "model = Model(GLPK.Optimizer)\n",
    "\n",
    "# Variables de decisión: x[i,j] = 1 si el trabajador i realiza la tarea j, 0 en otro caso\n",
    "@variable(model, x[1:n, 1:n], Bin)\n",
    "\n",
    "# Función objetivo: minimizar el costo total de asignación\n",
    "@objective(model, Min, sum(tareas[i, j] * x[i, j] for i in 1:n, j in 1:n))\n",
    "\n",
    "# Restricciones:\n",
    "# Cada trabajador debe realizar exactamente una tarea\n",
    "for i in 1:n\n",
    "    @constraint(model, sum(x[i, j] for j in 1:n) == 1)\n",
    "end\n",
    "\n",
    "# Cada tarea debe ser realizada por exactamente un trabajador\n",
    "for j in 1:n\n",
    "    @constraint(model, sum(x[i, j] for i in 1:n) == 1)\n",
    "end"
   ]
  },
  {
   "cell_type": "code",
   "execution_count": 3,
   "metadata": {},
   "outputs": [
    {
     "name": "stdout",
     "output_type": "stream",
     "text": [
      "Asignaciones óptimas:\n",
      "\n",
      "Trabajador 1 → Tarea 1\n",
      "Trabajador 2 → Tarea 3\n",
      "Trabajador 3 → Tarea 2\n",
      "Trabajador 4 → Tarea 4\n",
      "Trabajador 5 → Tarea 5\n",
      "\n",
      "Costo total: 19.0\n"
     ]
    }
   ],
   "source": [
    "# Resolver el modelo\n",
    "optimize!(model)\n",
    "\n",
    "# Mostrar las asignaciones y el costo total\n",
    "println(\"Asignaciones óptimas:\\n\")\n",
    "for i in 1:n, j in 1:n\n",
    "    if value(x[i, j]) == 1\n",
    "        println(\"Trabajador $i → Tarea $j\")\n",
    "    end\n",
    "end\n",
    "\n",
    "println(\"\\nCosto total: \", objective_value(model))"
   ]
  },
  {
   "cell_type": "markdown",
   "metadata": {},
   "source": [
    "## Inciso ii"
   ]
  },
  {
   "cell_type": "code",
   "execution_count": 4,
   "metadata": {},
   "outputs": [
    {
     "data": {
      "text/plain": [
       "5"
      ]
     },
     "execution_count": 4,
     "metadata": {},
     "output_type": "execute_result"
    }
   ],
   "source": [
    "using JuMP, GLPK\n",
    "\n",
    "# Parámetros\n",
    "tareas = [\n",
    "    3 9 2 2 7;\n",
    "    6 1 5 6 6;\n",
    "    9 4 7 10 3;\n",
    "    2 5 4 2 1;\n",
    "    9 6 2 4 6\n",
    "]\n",
    "\n",
    "# Dimensiones de la matriz\n",
    "n = size(tareas, 1)"
   ]
  },
  {
   "cell_type": "code",
   "execution_count": 5,
   "metadata": {},
   "outputs": [],
   "source": [
    "# Modelo de optimización\n",
    "model = Model(GLPK.Optimizer)\n",
    "\n",
    "# Variables de decisión: x[i,j] = 1 si el trabajador i realiza la tarea j, 0 en otro caso\n",
    "@variable(model, x[1:n, 1:n], Bin)\n",
    "\n",
    "# Función objetivo: minimizar el costo total de asignación\n",
    "@objective(model, Min, sum(tareas[i, j] * x[i, j] for i in 1:n, j in 1:n))\n",
    "\n",
    "# Restricciones:\n",
    "# Cada trabajador debe realizar exactamente una tarea\n",
    "for i in 1:n\n",
    "    @constraint(model, sum(x[i, j] for j in 1:n) == 1)\n",
    "end\n",
    "\n",
    "# Cada tarea debe ser realizada por exactamente un trabajador\n",
    "for j in 1:n\n",
    "    @constraint(model, sum(x[i, j] for i in 1:n) == 1)\n",
    "end"
   ]
  },
  {
   "cell_type": "code",
   "execution_count": 6,
   "metadata": {},
   "outputs": [
    {
     "name": "stdout",
     "output_type": "stream",
     "text": [
      "Asignaciones óptimas:\n",
      "\n",
      "Trabajador 1 → Tarea 4\n",
      "Trabajador 2 → Tarea 2\n",
      "Trabajador 3 → Tarea 5\n",
      "Trabajador 4 → Tarea 1\n",
      "Trabajador 5 → Tarea 3\n",
      "\n",
      "Costo total: 10.0\n"
     ]
    }
   ],
   "source": [
    "# Resolver el modelo\n",
    "optimize!(model)\n",
    "\n",
    "# Mostrar las asignaciones y el costo total\n",
    "println(\"Asignaciones óptimas:\\n\")\n",
    "for i in 1:n, j in 1:n\n",
    "    if value(x[i, j]) == 1\n",
    "        println(\"Trabajador $i → Tarea $j\")\n",
    "    end\n",
    "end\n",
    "\n",
    "println(\"\\nCosto total: \", objective_value(model))"
   ]
  }
 ],
 "metadata": {
  "kernelspec": {
   "display_name": "Julia 1.10.5",
   "language": "julia",
   "name": "julia-1.10"
  },
  "language_info": {
   "file_extension": ".jl",
   "mimetype": "application/julia",
   "name": "julia",
   "version": "1.10.5"
  }
 },
 "nbformat": 4,
 "nbformat_minor": 2
}
